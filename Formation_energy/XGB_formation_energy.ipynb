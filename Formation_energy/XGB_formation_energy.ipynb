{
 "cells": [
  {
   "cell_type": "code",
   "execution_count": 1,
   "metadata": {
    "executionInfo": {
     "elapsed": 4653,
     "status": "ok",
     "timestamp": 1710823496701,
     "user": {
      "displayName": "Leo L",
      "userId": "17027131178262412353"
     },
     "user_tz": 240
    },
    "id": "neCxiePU4W2E"
   },
   "outputs": [],
   "source": [
    "import numpy as np\n",
    "import pandas as pd\n",
    "from sklearn.metrics import mean_squared_error, r2_score, mean_absolute_error\n",
    "from sklearn.model_selection import StratifiedShuffleSplit\n",
    "from xgboost import XGBRegressor\n",
    "import matplotlib.pyplot as plt\n",
    "import seaborn as sns\n",
    "\n",
    "RANDOM_STATE = 99"
   ]
  },
  {
   "cell_type": "code",
   "execution_count": null,
   "metadata": {
    "executionInfo": {
     "elapsed": 1014,
     "status": "ok",
     "timestamp": 1710823499295,
     "user": {
      "displayName": "Leo L",
      "userId": "17027131178262412353"
     },
     "user_tz": 240
    },
    "id": "g5NNGPos41Ov"
   },
   "outputs": [],
   "source": [
    "df = pd.read_csv('Data in Table S4 of the Supporting Information.csv')"
   ]
  },
  {
   "cell_type": "code",
   "execution_count": 3,
   "metadata": {
    "colab": {
     "base_uri": "https://localhost:8080/",
     "height": 224
    },
    "executionInfo": {
     "elapsed": 311,
     "status": "ok",
     "timestamp": 1710823500353,
     "user": {
      "displayName": "Leo L",
      "userId": "17027131178262412353"
     },
     "user_tz": 240
    },
    "id": "OmAcAkcW5Fnr",
    "outputId": "6ea57f2a-3a9c-4858-b870-9ad6e3e6551a"
   },
   "outputs": [
    {
     "name": "stdout",
     "output_type": "stream",
     "text": [
      "(111, 17)\n"
     ]
    },
    {
     "data": {
      "text/html": [
       "<div>\n",
       "<style scoped>\n",
       "    .dataframe tbody tr th:only-of-type {\n",
       "        vertical-align: middle;\n",
       "    }\n",
       "\n",
       "    .dataframe tbody tr th {\n",
       "        vertical-align: top;\n",
       "    }\n",
       "\n",
       "    .dataframe thead th {\n",
       "        text-align: right;\n",
       "    }\n",
       "</style>\n",
       "<table border=\"1\" class=\"dataframe\">\n",
       "  <thead>\n",
       "    <tr style=\"text-align: right;\">\n",
       "      <th></th>\n",
       "      <th>atom_N</th>\n",
       "      <th>atom_wight</th>\n",
       "      <th>chemi_pot</th>\n",
       "      <th>In_e</th>\n",
       "      <th>out_e</th>\n",
       "      <th>neg(Nm)</th>\n",
       "      <th>i_en(Im)</th>\n",
       "      <th>aff</th>\n",
       "      <th>radii</th>\n",
       "      <th>C1</th>\n",
       "      <th>C2</th>\n",
       "      <th>N1</th>\n",
       "      <th>N2</th>\n",
       "      <th>N3</th>\n",
       "      <th>H1</th>\n",
       "      <th>H2</th>\n",
       "      <th>Eform</th>\n",
       "    </tr>\n",
       "  </thead>\n",
       "  <tbody>\n",
       "    <tr>\n",
       "      <th>0</th>\n",
       "      <td>40</td>\n",
       "      <td>91.224</td>\n",
       "      <td>-8.547</td>\n",
       "      <td>36</td>\n",
       "      <td>4</td>\n",
       "      <td>1.33</td>\n",
       "      <td>640.1</td>\n",
       "      <td>41.1</td>\n",
       "      <td>206</td>\n",
       "      <td>1</td>\n",
       "      <td>0</td>\n",
       "      <td>0</td>\n",
       "      <td>0</td>\n",
       "      <td>0</td>\n",
       "      <td>0</td>\n",
       "      <td>0</td>\n",
       "      <td>22.384</td>\n",
       "    </tr>\n",
       "    <tr>\n",
       "      <th>1</th>\n",
       "      <td>40</td>\n",
       "      <td>91.224</td>\n",
       "      <td>-8.547</td>\n",
       "      <td>36</td>\n",
       "      <td>4</td>\n",
       "      <td>1.33</td>\n",
       "      <td>640.1</td>\n",
       "      <td>41.1</td>\n",
       "      <td>206</td>\n",
       "      <td>0</td>\n",
       "      <td>1</td>\n",
       "      <td>0</td>\n",
       "      <td>0</td>\n",
       "      <td>0</td>\n",
       "      <td>0</td>\n",
       "      <td>0</td>\n",
       "      <td>6.431</td>\n",
       "    </tr>\n",
       "    <tr>\n",
       "      <th>2</th>\n",
       "      <td>40</td>\n",
       "      <td>91.224</td>\n",
       "      <td>-8.547</td>\n",
       "      <td>36</td>\n",
       "      <td>4</td>\n",
       "      <td>1.33</td>\n",
       "      <td>640.1</td>\n",
       "      <td>41.1</td>\n",
       "      <td>206</td>\n",
       "      <td>0</td>\n",
       "      <td>0</td>\n",
       "      <td>1</td>\n",
       "      <td>0</td>\n",
       "      <td>0</td>\n",
       "      <td>0</td>\n",
       "      <td>0</td>\n",
       "      <td>9.187</td>\n",
       "    </tr>\n",
       "    <tr>\n",
       "      <th>3</th>\n",
       "      <td>40</td>\n",
       "      <td>91.224</td>\n",
       "      <td>-8.547</td>\n",
       "      <td>36</td>\n",
       "      <td>4</td>\n",
       "      <td>1.33</td>\n",
       "      <td>640.1</td>\n",
       "      <td>41.1</td>\n",
       "      <td>206</td>\n",
       "      <td>0</td>\n",
       "      <td>0</td>\n",
       "      <td>0</td>\n",
       "      <td>1</td>\n",
       "      <td>0</td>\n",
       "      <td>0</td>\n",
       "      <td>0</td>\n",
       "      <td>1.181</td>\n",
       "    </tr>\n",
       "    <tr>\n",
       "      <th>4</th>\n",
       "      <td>40</td>\n",
       "      <td>91.224</td>\n",
       "      <td>-8.547</td>\n",
       "      <td>36</td>\n",
       "      <td>4</td>\n",
       "      <td>1.33</td>\n",
       "      <td>640.1</td>\n",
       "      <td>41.1</td>\n",
       "      <td>206</td>\n",
       "      <td>0</td>\n",
       "      <td>0</td>\n",
       "      <td>0</td>\n",
       "      <td>0</td>\n",
       "      <td>1</td>\n",
       "      <td>0</td>\n",
       "      <td>0</td>\n",
       "      <td>8.817</td>\n",
       "    </tr>\n",
       "  </tbody>\n",
       "</table>\n",
       "</div>"
      ],
      "text/plain": [
       "   atom_N  atom_wight  chemi_pot  In_e  out_e  neg(Nm)  i_en(Im)   aff  radii  \\\n",
       "0      40      91.224     -8.547    36      4     1.33     640.1  41.1    206   \n",
       "1      40      91.224     -8.547    36      4     1.33     640.1  41.1    206   \n",
       "2      40      91.224     -8.547    36      4     1.33     640.1  41.1    206   \n",
       "3      40      91.224     -8.547    36      4     1.33     640.1  41.1    206   \n",
       "4      40      91.224     -8.547    36      4     1.33     640.1  41.1    206   \n",
       "\n",
       "   C1  C2  N1  N2  N3  H1  H2   Eform  \n",
       "0   1   0   0   0   0   0   0  22.384  \n",
       "1   0   1   0   0   0   0   0   6.431  \n",
       "2   0   0   1   0   0   0   0   9.187  \n",
       "3   0   0   0   1   0   0   0   1.181  \n",
       "4   0   0   0   0   1   0   0   8.817  "
      ]
     },
     "execution_count": 3,
     "metadata": {},
     "output_type": "execute_result"
    }
   ],
   "source": [
    "print(df.shape)\n",
    "df.head()"
   ]
  },
  {
   "cell_type": "code",
   "execution_count": 4,
   "metadata": {
    "colab": {
     "base_uri": "https://localhost:8080/",
     "height": 276
    },
    "executionInfo": {
     "elapsed": 151,
     "status": "ok",
     "timestamp": 1710823731217,
     "user": {
      "displayName": "Leo L",
      "userId": "17027131178262412353"
     },
     "user_tz": 240
    },
    "id": "gdsgZ5Rx6e6-",
    "outputId": "b933a456-5a09-4e19-92ea-29e23d51ee57"
   },
   "outputs": [
    {
     "name": "stdout",
     "output_type": "stream",
     "text": [
      "(88, 16)\n",
      "(23, 16)\n",
      "(88,)\n",
      "(23,)\n"
     ]
    },
    {
     "data": {
      "text/html": [
       "<div>\n",
       "<style scoped>\n",
       "    .dataframe tbody tr th:only-of-type {\n",
       "        vertical-align: middle;\n",
       "    }\n",
       "\n",
       "    .dataframe tbody tr th {\n",
       "        vertical-align: top;\n",
       "    }\n",
       "\n",
       "    .dataframe thead th {\n",
       "        text-align: right;\n",
       "    }\n",
       "</style>\n",
       "<table border=\"1\" class=\"dataframe\">\n",
       "  <thead>\n",
       "    <tr style=\"text-align: right;\">\n",
       "      <th></th>\n",
       "      <th>0</th>\n",
       "      <th>1</th>\n",
       "      <th>2</th>\n",
       "      <th>3</th>\n",
       "      <th>4</th>\n",
       "      <th>5</th>\n",
       "      <th>6</th>\n",
       "      <th>7</th>\n",
       "      <th>8</th>\n",
       "      <th>9</th>\n",
       "      <th>10</th>\n",
       "      <th>11</th>\n",
       "      <th>12</th>\n",
       "      <th>13</th>\n",
       "      <th>14</th>\n",
       "      <th>15</th>\n",
       "    </tr>\n",
       "  </thead>\n",
       "  <tbody>\n",
       "    <tr>\n",
       "      <th>0</th>\n",
       "      <td>46.0</td>\n",
       "      <td>106.420</td>\n",
       "      <td>-5.177</td>\n",
       "      <td>36.0</td>\n",
       "      <td>10.0</td>\n",
       "      <td>2.20</td>\n",
       "      <td>804.4</td>\n",
       "      <td>53.7</td>\n",
       "      <td>169.0</td>\n",
       "      <td>0.0</td>\n",
       "      <td>0.0</td>\n",
       "      <td>0.0</td>\n",
       "      <td>0.0</td>\n",
       "      <td>1.0</td>\n",
       "      <td>0.0</td>\n",
       "      <td>0.0</td>\n",
       "    </tr>\n",
       "    <tr>\n",
       "      <th>1</th>\n",
       "      <td>29.0</td>\n",
       "      <td>63.546</td>\n",
       "      <td>-3.716</td>\n",
       "      <td>18.0</td>\n",
       "      <td>11.0</td>\n",
       "      <td>1.90</td>\n",
       "      <td>745.5</td>\n",
       "      <td>118.4</td>\n",
       "      <td>145.0</td>\n",
       "      <td>0.0</td>\n",
       "      <td>0.0</td>\n",
       "      <td>0.0</td>\n",
       "      <td>0.0</td>\n",
       "      <td>0.0</td>\n",
       "      <td>0.0</td>\n",
       "      <td>1.0</td>\n",
       "    </tr>\n",
       "    <tr>\n",
       "      <th>2</th>\n",
       "      <td>26.0</td>\n",
       "      <td>55.845</td>\n",
       "      <td>-8.308</td>\n",
       "      <td>18.0</td>\n",
       "      <td>8.0</td>\n",
       "      <td>1.83</td>\n",
       "      <td>762.5</td>\n",
       "      <td>15.7</td>\n",
       "      <td>156.0</td>\n",
       "      <td>0.0</td>\n",
       "      <td>0.0</td>\n",
       "      <td>1.0</td>\n",
       "      <td>0.0</td>\n",
       "      <td>0.0</td>\n",
       "      <td>0.0</td>\n",
       "      <td>0.0</td>\n",
       "    </tr>\n",
       "    <tr>\n",
       "      <th>3</th>\n",
       "      <td>22.0</td>\n",
       "      <td>47.867</td>\n",
       "      <td>-7.712</td>\n",
       "      <td>18.0</td>\n",
       "      <td>4.0</td>\n",
       "      <td>1.54</td>\n",
       "      <td>658.8</td>\n",
       "      <td>7.6</td>\n",
       "      <td>176.0</td>\n",
       "      <td>0.0</td>\n",
       "      <td>0.0</td>\n",
       "      <td>0.0</td>\n",
       "      <td>0.0</td>\n",
       "      <td>1.0</td>\n",
       "      <td>0.0</td>\n",
       "      <td>0.0</td>\n",
       "    </tr>\n",
       "    <tr>\n",
       "      <th>4</th>\n",
       "      <td>8.0</td>\n",
       "      <td>15.999</td>\n",
       "      <td>-4.485</td>\n",
       "      <td>2.0</td>\n",
       "      <td>6.0</td>\n",
       "      <td>3.44</td>\n",
       "      <td>1313.9</td>\n",
       "      <td>141.0</td>\n",
       "      <td>48.0</td>\n",
       "      <td>0.0</td>\n",
       "      <td>1.0</td>\n",
       "      <td>0.0</td>\n",
       "      <td>0.0</td>\n",
       "      <td>0.0</td>\n",
       "      <td>0.0</td>\n",
       "      <td>0.0</td>\n",
       "    </tr>\n",
       "  </tbody>\n",
       "</table>\n",
       "</div>"
      ],
      "text/plain": [
       "     0        1      2     3     4     5       6      7      8    9    10  \\\n",
       "0  46.0  106.420 -5.177  36.0  10.0  2.20   804.4   53.7  169.0  0.0  0.0   \n",
       "1  29.0   63.546 -3.716  18.0  11.0  1.90   745.5  118.4  145.0  0.0  0.0   \n",
       "2  26.0   55.845 -8.308  18.0   8.0  1.83   762.5   15.7  156.0  0.0  0.0   \n",
       "3  22.0   47.867 -7.712  18.0   4.0  1.54   658.8    7.6  176.0  0.0  0.0   \n",
       "4   8.0   15.999 -4.485   2.0   6.0  3.44  1313.9  141.0   48.0  0.0  1.0   \n",
       "\n",
       "    11   12   13   14   15  \n",
       "0  0.0  0.0  1.0  0.0  0.0  \n",
       "1  0.0  0.0  0.0  0.0  1.0  \n",
       "2  1.0  0.0  0.0  0.0  0.0  \n",
       "3  0.0  0.0  1.0  0.0  0.0  \n",
       "4  0.0  0.0  0.0  0.0  0.0  "
      ]
     },
     "execution_count": 4,
     "metadata": {},
     "output_type": "execute_result"
    }
   ],
   "source": [
    "data = df.values\n",
    "\n",
    "X = data[:, :16]\n",
    "Y = data[:, 16]\n",
    "first_feature = data[:, 0]\n",
    "\n",
    "sss = StratifiedShuffleSplit(n_splits=1, test_size=0.20, random_state=RANDOM_STATE)\n",
    "\n",
    "train_index, test_index = next(sss.split(X, first_feature))\n",
    "\n",
    "x_train, x_test = X[train_index], X[test_index]\n",
    "y_train, y_test = Y[train_index], Y[test_index]\n",
    "\n",
    "print(x_train.shape)\n",
    "print(x_test.shape)\n",
    "print(y_train.shape)\n",
    "print(y_test.shape)\n",
    "\n",
    "x_train_df = pd.DataFrame(x_train)\n",
    "y_train_df = pd.DataFrame(y_train)\n",
    "x_train_df.head()"
   ]
  },
  {
   "cell_type": "code",
   "execution_count": 5,
   "metadata": {
    "colab": {
     "base_uri": "https://localhost:8080/",
     "height": 859
    },
    "executionInfo": {
     "elapsed": 719,
     "status": "ok",
     "timestamp": 1710823739545,
     "user": {
      "displayName": "Leo L",
      "userId": "17027131178262412353"
     },
     "user_tz": 240
    },
    "id": "TbUPWQfR-7lC",
    "outputId": "46ebded0-4400-4fb5-c142-a63d354698a6"
   },
   "outputs": [
    {
     "data": {
      "image/png": "[encoded data removed]",
      "text/plain": [
       "<Figure size 1000x600 with 1 Axes>"
      ]
     },
     "metadata": {},
     "output_type": "display_data"
    },
    {
     "name": "stdout",
     "output_type": "stream",
     "text": [
      "       feature  importance\n",
      "8        radii    0.337198\n",
      "14          H1    0.165328\n",
      "15          H2    0.130375\n",
      "13          N3    0.080148\n",
      "12          N2    0.071155\n",
      "4        out_e    0.045203\n",
      "9           C1    0.039162\n",
      "7          aff    0.035478\n",
      "2    chemi_pot    0.025548\n",
      "0       atom_N    0.019607\n",
      "11          N1    0.018601\n",
      "10          C2    0.017022\n",
      "5      neg(Nm)    0.010205\n",
      "6     i_en(Im)    0.004970\n",
      "1   atom_wight    0.000000\n",
      "3         In_e    0.000000\n"
     ]
    }
   ],
   "source": [
    "n_range = np.arange(0.78, 0.782, 0.001)\n",
    "train_mse_scores = []\n",
    "test_mse_scores = []\n",
    "\n",
    "for n in n_range:\n",
    "    model = XGBRegressor(\n",
    "        n_estimators=10,\n",
    "        learning_rate=0.781,\n",
    "        verbosity=1,\n",
    "        random_state=RANDOM_STATE,\n",
    "        reg_alpha=2,\n",
    "        reg_lambda=1,\n",
    "        max_depth=5,\n",
    "        min_child_weight=None,\n",
    "        gamma=None\n",
    "    )\n",
    "    model.fit(x_train, y_train)\n",
    "    train_predictions = model.predict(x_train)\n",
    "    test_predictions = model.predict(x_test)\n",
    "    train_mse = mean_squared_error(y_train, train_predictions)\n",
    "    test_mse = mean_squared_error(y_test, test_predictions)\n",
    "    train_mse_scores.append(train_mse)\n",
    "    test_mse_scores.append(test_mse)\n",
    "\n",
    "plt.figure(figsize=(10, 6))\n",
    "plt.plot(n_range, train_mse_scores, marker='o', label='Training MSE')\n",
    "plt.plot(n_range, test_mse_scores, marker='s', label='Test MSE')\n",
    "plt.xlabel('n')\n",
    "plt.ylabel('Mean Squared Error')\n",
    "plt.title('Training and Test MSE vs. n')\n",
    "plt.legend()\n",
    "plt.show()\n",
    "\n",
    "importances = model.feature_importances_\n",
    "\n",
    "feature_names = df.columns[:16]\n",
    "feature_importances = pd.DataFrame({'feature': feature_names, 'importance': importances})\n",
    "\n",
    "feature_importances.sort_values(by='importance', ascending=False, inplace=True)\n",
    "\n",
    "print(feature_importances)"
   ]
  },
  {
   "cell_type": "code",
   "execution_count": 6,
   "metadata": {
    "colab": {
     "base_uri": "https://localhost:8080/"
    },
    "executionInfo": {
     "elapsed": 124,
     "status": "ok",
     "timestamp": 1710823744993,
     "user": {
      "displayName": "Leo L",
      "userId": "17027131178262412353"
     },
     "user_tz": 240
    },
    "id": "YEvmutCdACoZ",
    "outputId": "e9230e09-ee3e-4b63-9f7b-4a5351cea4a8"
   },
   "outputs": [
    {
     "name": "stdout",
     "output_type": "stream",
     "text": [
      "Metrics train:\n",
      "\t MSR: 0.5403 \n",
      "\t MAR: 0.5218 \n",
      "\t R2: 0.9664\n",
      "Metrics test:\n",
      "\t MSR: 0.8348 \n",
      "\t MAR: 0.7354 \n",
      "\t R2: 0.9120\n"
     ]
    }
   ],
   "source": [
    "print(\n",
    "    f\"Metrics train:\\n\"\n",
    "    f\"\\t MSR: {mean_squared_error(y_train, train_predictions):.4f} \\n\"\n",
    "    f\"\\t MAR: {mean_absolute_error(y_train, train_predictions):.4f} \\n\"\n",
    "    f\"\\t R2: {r2_score(y_train, train_predictions):.4f}\"\n",
    ")\n",
    "\n",
    "print(\n",
    "    f\"Metrics test:\\n\"\n",
    "    f\"\\t MSR: {mean_squared_error(y_test, test_predictions):.4f} \\n\"\n",
    "    f\"\\t MAR: {mean_absolute_error(y_test, test_predictions):.4f} \\n\"\n",
    "    f\"\\t R2: {r2_score(y_test, test_predictions):.4f}\"\n",
    ")"
   ]
  },
  {
   "cell_type": "code",
   "execution_count": 7,
   "metadata": {
    "colab": {
     "base_uri": "https://localhost:8080/",
     "height": 668
    },
    "executionInfo": {
     "elapsed": 469,
     "status": "ok",
     "timestamp": 1710823753711,
     "user": {
      "displayName": "Leo L",
      "userId": "17027131178262412353"
     },
     "user_tz": 240
    },
    "id": "ZSkgwF_9Ltps",
    "outputId": "5a3e1487-e1e7-4e79-a6cc-10404a6fab2c"
   },
   "outputs": [
    {
     "name": "stdout",
     "output_type": "stream",
     "text": [
      "[-1.687  2.36   5.298  9.187  1.673 -1.463 -0.32   6.215  3.216  0.345\n",
      "  1.052 -0.287  4.95   7.319  1.202  3.803 -0.795  6.958  2.805  3.217\n",
      "  7.234 -0.22   0.936]\n",
      "[-1.7738403   1.9523518   3.79115     7.135417    0.8592799  -0.35578686\n",
      "  0.11242279  5.288751    2.2215745  -0.6242589   1.1287668   0.32257962\n",
      "  5.6355453   6.0311975   1.2135463   3.6945696  -0.6949639   7.8598003\n",
      "  1.4239292   3.5850258   5.8241115   0.3243477   1.0697032 ]\n",
      "[ 6.7140e+00 -9.4000e-02  4.8690e+00  9.3140e+00  4.5460e+00  1.2410e+00\n",
      " -2.7500e-01  3.0280e+00  6.4380e+00 -1.3000e-02  8.0500e-01  2.7560e+00\n",
      "  2.9920e+00 -2.1180e+00  3.5290e+00 -7.8000e-02  1.4386e+01 -4.0700e+00\n",
      " -2.7000e-02  1.5430e+00  7.6270e+00  6.6710e+00  1.5300e+00  4.8050e+00\n",
      "  6.9520e+00 -5.4100e-01  6.4310e+00  5.2040e+00 -8.9000e-02  6.9400e+00\n",
      "  7.0700e+00  4.5850e+00  3.9180e+00  4.8350e+00  1.0763e+01  8.5340e+00\n",
      "  1.2340e+00  8.2300e-01  6.7370e+00  1.2910e+00  9.9500e-01  1.1860e+00\n",
      "  3.0370e+00  3.1700e-01 -1.0400e+00  5.8110e+00  3.3740e+00  2.0400e+00\n",
      "  9.4900e-01  7.5600e-01  1.3910e+00 -3.5000e-02  6.9290e+00  2.2384e+01\n",
      " -9.9100e-01 -2.0430e+00  4.6480e+00  6.6480e+00  6.4110e+00  1.9190e+00\n",
      "  1.1810e+00  1.7760e+00 -2.8180e+00 -1.8400e-01  7.3560e+00 -9.3500e-01\n",
      "  1.2670e+00  1.0609e+01 -1.6760e+00 -3.7000e-01  5.7250e+00  2.9040e+00\n",
      "  2.8640e+00  4.0810e+00 -1.4860e+00  9.8900e-01  6.6410e+00  2.4940e+00\n",
      "  3.9110e+00  2.6430e+00  7.9640e+00  1.1720e+00  8.8170e+00  5.9090e+00\n",
      "  3.4520e+00  5.3510e+00 -3.6500e-01  1.9900e-01]\n",
      "[ 6.242486   -0.23913959  4.424397    8.825667    4.114437    0.64711034\n",
      " -0.13312455  3.1315541   6.2920146   1.2760481   1.3656476   3.4731371\n",
      "  2.8016288  -0.9866595   3.168126    0.0291263  13.525153   -3.1237316\n",
      " -0.16304044  1.0525064   7.2014856   5.375631    0.6291603   5.3384566\n",
      "  6.7968063  -0.41199625  6.2943034   3.6532755  -0.03485373  4.8825426\n",
      "  7.1694083   5.884536    5.8765655   5.5080223  10.879337    8.339585\n",
      "  1.3912706   0.55229306  7.010113    1.8495123   1.0121609   1.901781\n",
      "  2.8529985   0.08549518 -0.34340146  5.9164543   3.5137765   0.879887\n",
      "  0.17128131  0.94535846  1.4519204  -0.47291672  6.8827777  19.690882\n",
      " -0.59255755 -1.7365936   4.5177307   6.1059046   6.206712    2.2215745\n",
      "  1.5526686   1.9628229  -1.7957766  -0.0679622   6.282915    0.57668364\n",
      "  1.1916226  10.351716   -0.77915555  1.4555948   6.2196417   2.8658292\n",
      "  2.8201017   3.3021362  -0.79127514  0.95499635  6.1296062   2.5771673\n",
      "  4.090584    2.4536884   7.594921    0.66099447  9.853878    5.899811\n",
      "  3.5443356   5.7787013  -1.192011    0.527045  ]\n"
     ]
    },
    {
     "data": {
      "image/png": "[encoded data removed]",
      "text/plain": [
       "<Figure size 1000x600 with 1 Axes>"
      ]
     },
     "metadata": {},
     "output_type": "display_data"
    }
   ],
   "source": [
    "print(y_test)\n",
    "y_predict_test = model.predict(x_test)\n",
    "print(y_predict_test)\n",
    "\n",
    "print(y_train)\n",
    "y_predict_train = model.predict(x_train)\n",
    "print(y_predict_train)\n",
    "\n",
    "plt.figure(figsize=(10, 6))\n",
    "plt.scatter(y_test, y_predict_test, alpha=0.5, color='blue', label='test', marker='o')\n",
    "plt.scatter(y_train, y_predict_train, alpha=0.5, color='red', label='train', marker='x')\n",
    "\n",
    "plt.xlabel(\"DFT Values\")\n",
    "plt.ylabel(\"Predicted Values\")\n",
    "plt.title(\"DFT vs. Predicted Values\")\n",
    "plt.legend()\n",
    "\n",
    "plt.plot([y_train.min(), y_train.max()], [y_train.min(), y_train.max()], 'k--', lw=2)\n",
    "plt.show()"
   ]
  },
  {
   "cell_type": "code",
   "execution_count": 8,
   "metadata": {},
   "outputs": [
    {
     "name": "stdout",
     "output_type": "stream",
     "text": [
      "Predictions for new data:\n",
      "[ 0.6613191  -1.5323223   3.5271382   4.341534    3.4074714   1.1104321\n",
      "  5.9455066  -0.7023573   3.1420255   2.567102    6.297503    4.3059807\n",
      " 12.807279    2.4865825   1.0982782   5.973839    5.186167    1.7306522\n",
      "  0.03674199  6.010528   -0.40363118  5.8495464   1.135858   -0.32913324\n",
      "  2.2010434   5.092283    0.56291926 -1.0539197   1.4961462 ]\n"
     ]
    }
   ],
   "source": [
    "\n",
    "new_data = pd.read_csv('formation_enenrgy_data - Copy - pre.csv')\n",
    "\n",
    "new_data_predictions = model.predict(new_data)\n",
    "\n",
    "print(\"Predictions for new data:\")\n",
    "print(new_data_predictions)\n"
   ]
  },
  {
   "cell_type": "markdown",
   "metadata": {},
   "source": []
  }
 ],
 "metadata": {
  "colab": {
   "authorship_tag": "ABX9TyN7UesdWJMvuHa3wpD9M2nj",
   "mount_file_id": "105hY9Kh1-vEF5ZBAc_GKDy5ZUq5lyI1L",
   "provenance": []
  },
  "kernelspec": {
   "display_name": "pytorch",
   "language": "python",
   "name": "python3"
  },
  "language_info": {
   "codemirror_mode": {
    "name": "ipython",
    "version": 3
   },
   "file_extension": ".py",
   "mimetype": "text/x-python",
   "name": "python",
   "nbconvert_exporter": "python",
   "pygments_lexer": "ipython3",
   "version": "3.8.18"
  }
 },
 "nbformat": 4,
 "nbformat_minor": 0
}
